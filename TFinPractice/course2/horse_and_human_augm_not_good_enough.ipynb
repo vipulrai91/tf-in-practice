{
  "nbformat": 4,
  "nbformat_minor": 0,
  "metadata": {
    "accelerator": "GPU",
    "colab": {
      "name": "Course 2 - Part 4 - Lesson 4 - Notebook.ipynb",
      "provenance": [],
      "collapsed_sections": []
    },
    "kernelspec": {
      "display_name": "Python 3",
      "name": "python3"
    }
  },
  "cells": [
    {
      "cell_type": "markdown",
      "metadata": {
        "colab_type": "text",
        "id": "rX8mhOLljYeM"
      },
      "source": [
        "##### Copyright 2019 The TensorFlow Authors."
      ]
    },
    {
      "cell_type": "code",
      "metadata": {
        "cellView": "form",
        "colab_type": "code",
        "id": "BZSlp3DAjdYf",
        "colab": {}
      },
      "source": [
        "#@title Licensed under the Apache License, Version 2.0 (the \"License\");\n",
        "# you may not use this file except in compliance with the License.\n",
        "# You may obtain a copy of the License at\n",
        "#\n",
        "# https://www.apache.org/licenses/LICENSE-2.0\n",
        "#\n",
        "# Unless required by applicable law or agreed to in writing, software\n",
        "# distributed under the License is distributed on an \"AS IS\" BASIS,\n",
        "# WITHOUT WARRANTIES OR CONDITIONS OF ANY KIND, either express or implied.\n",
        "# See the License for the specific language governing permissions and\n",
        "# limitations under the License."
      ],
      "execution_count": 1,
      "outputs": []
    },
    {
      "cell_type": "code",
      "metadata": {
        "colab_type": "code",
        "id": "RXZT2UsyIVe_",
        "colab": {
          "base_uri": "https://localhost:8080/",
          "height": 408
        },
        "outputId": "f6547253-148c-4d55-d627-bb1047b7f6eb"
      },
      "source": [
        "!wget --no-check-certificate \\\n",
        "    https://storage.googleapis.com/laurencemoroney-blog.appspot.com/horse-or-human.zip \\\n",
        "    -O /tmp/horse-or-human.zip\n",
        "\n",
        "!wget --no-check-certificate \\\n",
        "    https://storage.googleapis.com/laurencemoroney-blog.appspot.com/validation-horse-or-human.zip \\\n",
        "    -O /tmp/validation-horse-or-human.zip\n",
        "  \n",
        "import os\n",
        "import zipfile\n",
        "\n",
        "local_zip = '/tmp/horse-or-human.zip'\n",
        "zip_ref = zipfile.ZipFile(local_zip, 'r')\n",
        "zip_ref.extractall('/tmp/horse-or-human')\n",
        "local_zip = '/tmp/validation-horse-or-human.zip'\n",
        "zip_ref = zipfile.ZipFile(local_zip, 'r')\n",
        "zip_ref.extractall('/tmp/validation-horse-or-human')\n",
        "zip_ref.close()\n",
        "# Directory with our training horse pictures\n",
        "train_horse_dir = os.path.join('/tmp/horse-or-human/horses')\n",
        "\n",
        "# Directory with our training human pictures\n",
        "train_human_dir = os.path.join('/tmp/horse-or-human/humans')\n",
        "\n",
        "# Directory with our training horse pictures\n",
        "validation_horse_dir = os.path.join('/tmp/validation-horse-or-human/horses')\n",
        "\n",
        "# Directory with our training human pictures\n",
        "validation_human_dir = os.path.join('/tmp/validation-horse-or-human/humans')"
      ],
      "execution_count": 2,
      "outputs": [
        {
          "output_type": "stream",
          "text": [
            "--2020-07-25 18:40:06--  https://storage.googleapis.com/laurencemoroney-blog.appspot.com/horse-or-human.zip\n",
            "Resolving storage.googleapis.com (storage.googleapis.com)... 172.217.219.128, 108.177.112.128, 172.217.212.128, ...\n",
            "Connecting to storage.googleapis.com (storage.googleapis.com)|172.217.219.128|:443... connected.\n",
            "HTTP request sent, awaiting response... 200 OK\n",
            "Length: 149574867 (143M) [application/zip]\n",
            "Saving to: ‘/tmp/horse-or-human.zip’\n",
            "\n",
            "\r/tmp/horse-or-human   0%[                    ]       0  --.-KB/s               \r/tmp/horse-or-human   5%[>                   ]   8.01M  37.3MB/s               \r/tmp/horse-or-human  20%[===>                ]  29.68M  71.5MB/s               \r/tmp/horse-or-human  44%[=======>            ]  63.59M   103MB/s               \r/tmp/horse-or-human  63%[===========>        ]  91.05M   112MB/s               \r/tmp/horse-or-human  83%[===============>    ] 119.18M   117MB/s               \r/tmp/horse-or-human 100%[===================>] 142.65M   118MB/s    in 1.2s    \n",
            "\n",
            "2020-07-25 18:40:07 (118 MB/s) - ‘/tmp/horse-or-human.zip’ saved [149574867/149574867]\n",
            "\n",
            "--2020-07-25 18:40:13--  https://storage.googleapis.com/laurencemoroney-blog.appspot.com/validation-horse-or-human.zip\n",
            "Resolving storage.googleapis.com (storage.googleapis.com)... 173.194.74.128, 108.177.112.128, 172.217.212.128, ...\n",
            "Connecting to storage.googleapis.com (storage.googleapis.com)|173.194.74.128|:443... connected.\n",
            "HTTP request sent, awaiting response... 200 OK\n",
            "Length: 11480187 (11M) [application/zip]\n",
            "Saving to: ‘/tmp/validation-horse-or-human.zip’\n",
            "\n",
            "/tmp/validation-hor 100%[===================>]  10.95M  --.-KB/s    in 0.1s    \n",
            "\n",
            "2020-07-25 18:40:13 (75.3 MB/s) - ‘/tmp/validation-horse-or-human.zip’ saved [11480187/11480187]\n",
            "\n"
          ],
          "name": "stdout"
        }
      ]
    },
    {
      "cell_type": "markdown",
      "metadata": {
        "colab_type": "text",
        "id": "5oqBkNBJmtUv"
      },
      "source": [
        "## Building a Small Model from Scratch\n",
        "\n",
        "But before we continue, let's start defining the model:\n",
        "\n",
        "Step 1 will be to import tensorflow."
      ]
    },
    {
      "cell_type": "code",
      "metadata": {
        "colab_type": "code",
        "id": "qvfZg3LQbD-5",
        "colab": {}
      },
      "source": [
        "import tensorflow as tf"
      ],
      "execution_count": 3,
      "outputs": []
    },
    {
      "cell_type": "markdown",
      "metadata": {
        "colab_type": "text",
        "id": "BnhYCP4tdqjC"
      },
      "source": [
        "We then add convolutional layers as in the previous example, and flatten the final result to feed into the densely connected layers."
      ]
    },
    {
      "cell_type": "markdown",
      "metadata": {
        "colab_type": "text",
        "id": "gokG5HKpdtzm"
      },
      "source": [
        "Finally we add the densely connected layers. \n",
        "\n",
        "Note that because we are facing a two-class classification problem, i.e. a *binary classification problem*, we will end our network with a [*sigmoid* activation](https://wikipedia.org/wiki/Sigmoid_function), so that the output of our network will be a single scalar between 0 and 1, encoding the probability that the current image is class 1 (as opposed to class 0)."
      ]
    },
    {
      "cell_type": "code",
      "metadata": {
        "colab_type": "code",
        "id": "PixZ2s5QbYQ3",
        "colab": {}
      },
      "source": [
        "model = tf.keras.models.Sequential([\n",
        "    # Note the input shape is the desired size of the image 300x300 with 3 bytes color\n",
        "    # This is the first convolution\n",
        "    tf.keras.layers.Conv2D(16, (3,3), activation='relu', input_shape=(300, 300, 3)),\n",
        "    tf.keras.layers.MaxPooling2D(2, 2),\n",
        "    # The second convolution\n",
        "    tf.keras.layers.Conv2D(32, (3,3), activation='relu'),\n",
        "    tf.keras.layers.MaxPooling2D(2,2),\n",
        "    # The third convolution\n",
        "    tf.keras.layers.Conv2D(64, (3,3), activation='relu'),\n",
        "    tf.keras.layers.MaxPooling2D(2,2),\n",
        "    # The fourth convolution\n",
        "    tf.keras.layers.Conv2D(64, (3,3), activation='relu'),\n",
        "    tf.keras.layers.MaxPooling2D(2,2),\n",
        "    # The fifth convolution\n",
        "    tf.keras.layers.Conv2D(64, (3,3), activation='relu'),\n",
        "    tf.keras.layers.MaxPooling2D(2,2),\n",
        "    # Flatten the results to feed into a DNN\n",
        "    tf.keras.layers.Flatten(),\n",
        "    # 512 neuron hidden layer\n",
        "    tf.keras.layers.Dense(512, activation='relu'),\n",
        "    # Only 1 output neuron. It will contain a value from 0-1 where 0 for 1 class ('horses') and 1 for the other ('humans')\n",
        "    tf.keras.layers.Dense(1, activation='sigmoid')\n",
        "])"
      ],
      "execution_count": 4,
      "outputs": []
    },
    {
      "cell_type": "code",
      "metadata": {
        "colab_type": "code",
        "id": "8DHWhFP_uhq3",
        "colab": {}
      },
      "source": [
        "from tensorflow.keras.optimizers import RMSprop\n",
        "\n",
        "model.compile(loss='binary_crossentropy',\n",
        "              optimizer=RMSprop(lr=1e-4),\n",
        "              metrics=['accuracy'])"
      ],
      "execution_count": 5,
      "outputs": []
    },
    {
      "cell_type": "code",
      "metadata": {
        "colab_type": "code",
        "id": "ClebU9NJg99G",
        "colab": {
          "base_uri": "https://localhost:8080/",
          "height": 53
        },
        "outputId": "43be1018-867c-4dfe-f8dc-59d86de6bc4c"
      },
      "source": [
        "from tensorflow.keras.preprocessing.image import ImageDataGenerator\n",
        "\n",
        "# All images will be rescaled by 1./255\n",
        "train_datagen = ImageDataGenerator(\n",
        "      rescale=1./255,\n",
        "      rotation_range=40,\n",
        "      width_shift_range=0.2,\n",
        "      height_shift_range=0.2,\n",
        "      shear_range=0.2,\n",
        "      zoom_range=0.2,\n",
        "      horizontal_flip=True,\n",
        "      fill_mode='nearest')\n",
        "\n",
        "validation_datagen = ImageDataGenerator(rescale=1/255)\n",
        "\n",
        "# Flow training images in batches of 128 using train_datagen generator\n",
        "train_generator = train_datagen.flow_from_directory(\n",
        "        '/tmp/horse-or-human/',  # This is the source directory for training images\n",
        "        target_size=(300, 300),  # All images will be resized to 150x150\n",
        "        batch_size=128,\n",
        "        # Since we use binary_crossentropy loss, we need binary labels\n",
        "        class_mode='binary')\n",
        "\n",
        "# Flow training images in batches of 128 using train_datagen generator\n",
        "validation_generator = validation_datagen.flow_from_directory(\n",
        "        '/tmp/validation-horse-or-human/',  # This is the source directory for training images\n",
        "        target_size=(300, 300),  # All images will be resized to 150x150\n",
        "        batch_size=32,\n",
        "        # Since we use binary_crossentropy loss, we need binary labels\n",
        "        class_mode='binary')"
      ],
      "execution_count": 6,
      "outputs": [
        {
          "output_type": "stream",
          "text": [
            "Found 1027 images belonging to 2 classes.\n",
            "Found 256 images belonging to 2 classes.\n"
          ],
          "name": "stdout"
        }
      ]
    },
    {
      "cell_type": "code",
      "metadata": {
        "colab_type": "code",
        "id": "Fb1_lgobv81m",
        "colab": {
          "base_uri": "https://localhost:8080/",
          "height": 1000
        },
        "outputId": "b3bfd50b-2fe9-476e-f185-8b4d25f9f57b"
      },
      "source": [
        "history = model.fit(\n",
        "      train_generator,\n",
        "      steps_per_epoch=8,  \n",
        "      epochs=100,\n",
        "      verbose=1,\n",
        "      validation_data = validation_generator,\n",
        "      validation_steps=8)"
      ],
      "execution_count": 7,
      "outputs": [
        {
          "output_type": "stream",
          "text": [
            "Epoch 1/100\n",
            "8/8 [==============================] - 21s 3s/step - loss: 0.6905 - accuracy: 0.5283 - val_loss: 0.6709 - val_accuracy: 0.5000\n",
            "Epoch 2/100\n",
            "8/8 [==============================] - 21s 3s/step - loss: 0.6666 - accuracy: 0.6051 - val_loss: 0.6249 - val_accuracy: 0.5000\n",
            "Epoch 3/100\n",
            "8/8 [==============================] - 21s 3s/step - loss: 0.6493 - accuracy: 0.6574 - val_loss: 0.5841 - val_accuracy: 0.6641\n",
            "Epoch 4/100\n",
            "8/8 [==============================] - 24s 3s/step - loss: 0.6124 - accuracy: 0.6863 - val_loss: 0.5797 - val_accuracy: 0.6016\n",
            "Epoch 5/100\n",
            "8/8 [==============================] - 21s 3s/step - loss: 0.5901 - accuracy: 0.7341 - val_loss: 0.5113 - val_accuracy: 0.7344\n",
            "Epoch 6/100\n",
            "8/8 [==============================] - 25s 3s/step - loss: 0.5407 - accuracy: 0.7519 - val_loss: 0.6145 - val_accuracy: 0.6367\n",
            "Epoch 7/100\n",
            "8/8 [==============================] - 21s 3s/step - loss: 0.5410 - accuracy: 0.7197 - val_loss: 0.5419 - val_accuracy: 0.7070\n",
            "Epoch 8/100\n",
            "8/8 [==============================] - 21s 3s/step - loss: 0.5220 - accuracy: 0.7442 - val_loss: 0.6937 - val_accuracy: 0.6250\n",
            "Epoch 9/100\n",
            "8/8 [==============================] - 24s 3s/step - loss: 0.4913 - accuracy: 0.7686 - val_loss: 0.8945 - val_accuracy: 0.5742\n",
            "Epoch 10/100\n",
            "8/8 [==============================] - 23s 3s/step - loss: 0.4704 - accuracy: 0.7871 - val_loss: 0.6117 - val_accuracy: 0.7227\n",
            "Epoch 11/100\n",
            "8/8 [==============================] - 21s 3s/step - loss: 0.5207 - accuracy: 0.7675 - val_loss: 0.9794 - val_accuracy: 0.5977\n",
            "Epoch 12/100\n",
            "8/8 [==============================] - 21s 3s/step - loss: 0.4529 - accuracy: 0.7875 - val_loss: 0.6468 - val_accuracy: 0.7031\n",
            "Epoch 13/100\n",
            "8/8 [==============================] - 23s 3s/step - loss: 0.4094 - accuracy: 0.8232 - val_loss: 0.7177 - val_accuracy: 0.7070\n",
            "Epoch 14/100\n",
            "8/8 [==============================] - 24s 3s/step - loss: 0.4168 - accuracy: 0.8109 - val_loss: 1.1070 - val_accuracy: 0.6172\n",
            "Epoch 15/100\n",
            "8/8 [==============================] - 21s 3s/step - loss: 0.4256 - accuracy: 0.7909 - val_loss: 0.7266 - val_accuracy: 0.7383\n",
            "Epoch 16/100\n",
            "8/8 [==============================] - 21s 3s/step - loss: 0.4147 - accuracy: 0.8065 - val_loss: 0.6847 - val_accuracy: 0.7461\n",
            "Epoch 17/100\n",
            "8/8 [==============================] - 22s 3s/step - loss: 0.4556 - accuracy: 0.7809 - val_loss: 1.0559 - val_accuracy: 0.6367\n",
            "Epoch 18/100\n",
            "8/8 [==============================] - 21s 3s/step - loss: 0.3782 - accuracy: 0.8320 - val_loss: 1.7535 - val_accuracy: 0.5156\n",
            "Epoch 19/100\n",
            "8/8 [==============================] - 21s 3s/step - loss: 0.4138 - accuracy: 0.8120 - val_loss: 1.8914 - val_accuracy: 0.5469\n",
            "Epoch 20/100\n",
            "8/8 [==============================] - 21s 3s/step - loss: 0.3951 - accuracy: 0.8142 - val_loss: 1.1095 - val_accuracy: 0.6641\n",
            "Epoch 21/100\n",
            "8/8 [==============================] - 21s 3s/step - loss: 0.3567 - accuracy: 0.8398 - val_loss: 1.2757 - val_accuracy: 0.6250\n",
            "Epoch 22/100\n",
            "8/8 [==============================] - 24s 3s/step - loss: 0.3537 - accuracy: 0.8447 - val_loss: 1.6231 - val_accuracy: 0.5664\n",
            "Epoch 23/100\n",
            "8/8 [==============================] - 21s 3s/step - loss: 0.3387 - accuracy: 0.8621 - val_loss: 1.4712 - val_accuracy: 0.5977\n",
            "Epoch 24/100\n",
            "8/8 [==============================] - 21s 3s/step - loss: 0.4222 - accuracy: 0.8209 - val_loss: 1.3646 - val_accuracy: 0.6133\n",
            "Epoch 25/100\n",
            "8/8 [==============================] - 24s 3s/step - loss: 0.3679 - accuracy: 0.8298 - val_loss: 1.3117 - val_accuracy: 0.6367\n",
            "Epoch 26/100\n",
            "8/8 [==============================] - 21s 3s/step - loss: 0.3168 - accuracy: 0.8643 - val_loss: 0.3573 - val_accuracy: 0.8633\n",
            "Epoch 27/100\n",
            "8/8 [==============================] - 24s 3s/step - loss: 0.3284 - accuracy: 0.8954 - val_loss: 0.9710 - val_accuracy: 0.6797\n",
            "Epoch 28/100\n",
            "8/8 [==============================] - 23s 3s/step - loss: 0.2923 - accuracy: 0.8975 - val_loss: 1.6884 - val_accuracy: 0.5938\n",
            "Epoch 29/100\n",
            "8/8 [==============================] - 21s 3s/step - loss: 0.3294 - accuracy: 0.8576 - val_loss: 1.3654 - val_accuracy: 0.6523\n",
            "Epoch 30/100\n",
            "8/8 [==============================] - 21s 3s/step - loss: 0.2888 - accuracy: 0.8732 - val_loss: 1.1529 - val_accuracy: 0.6992\n",
            "Epoch 31/100\n",
            "8/8 [==============================] - 24s 3s/step - loss: 0.3094 - accuracy: 0.8643 - val_loss: 1.8646 - val_accuracy: 0.5859\n",
            "Epoch 32/100\n",
            "8/8 [==============================] - 21s 3s/step - loss: 0.3357 - accuracy: 0.8554 - val_loss: 0.9559 - val_accuracy: 0.7031\n",
            "Epoch 33/100\n",
            "8/8 [==============================] - 24s 3s/step - loss: 0.3922 - accuracy: 0.8454 - val_loss: 1.4869 - val_accuracy: 0.6562\n",
            "Epoch 34/100\n",
            "8/8 [==============================] - 21s 3s/step - loss: 0.3066 - accuracy: 0.8654 - val_loss: 1.2289 - val_accuracy: 0.6836\n",
            "Epoch 35/100\n",
            "8/8 [==============================] - 25s 3s/step - loss: 0.2623 - accuracy: 0.8988 - val_loss: 1.4138 - val_accuracy: 0.6758\n",
            "Epoch 36/100\n",
            "8/8 [==============================] - 22s 3s/step - loss: 0.3068 - accuracy: 0.8565 - val_loss: 1.3057 - val_accuracy: 0.6875\n",
            "Epoch 37/100\n",
            "8/8 [==============================] - 21s 3s/step - loss: 0.2528 - accuracy: 0.9066 - val_loss: 1.2542 - val_accuracy: 0.7031\n",
            "Epoch 38/100\n",
            "8/8 [==============================] - 21s 3s/step - loss: 0.2646 - accuracy: 0.8932 - val_loss: 1.7824 - val_accuracy: 0.6367\n",
            "Epoch 39/100\n",
            "8/8 [==============================] - 25s 3s/step - loss: 0.2866 - accuracy: 0.8799 - val_loss: 1.5360 - val_accuracy: 0.6719\n",
            "Epoch 40/100\n",
            "8/8 [==============================] - 21s 3s/step - loss: 0.3077 - accuracy: 0.8710 - val_loss: 1.1466 - val_accuracy: 0.6914\n",
            "Epoch 41/100\n",
            "8/8 [==============================] - 21s 3s/step - loss: 0.2515 - accuracy: 0.8999 - val_loss: 1.4183 - val_accuracy: 0.6797\n",
            "Epoch 42/100\n",
            "8/8 [==============================] - 21s 3s/step - loss: 0.2431 - accuracy: 0.9021 - val_loss: 1.2568 - val_accuracy: 0.7070\n",
            "Epoch 43/100\n",
            "8/8 [==============================] - 24s 3s/step - loss: 0.2492 - accuracy: 0.8916 - val_loss: 0.9846 - val_accuracy: 0.7266\n",
            "Epoch 44/100\n",
            "8/8 [==============================] - 21s 3s/step - loss: 0.2273 - accuracy: 0.9055 - val_loss: 0.8452 - val_accuracy: 0.7656\n",
            "Epoch 45/100\n",
            "8/8 [==============================] - 24s 3s/step - loss: 0.2446 - accuracy: 0.9062 - val_loss: 1.4883 - val_accuracy: 0.6875\n",
            "Epoch 46/100\n",
            "8/8 [==============================] - 21s 3s/step - loss: 0.2396 - accuracy: 0.9055 - val_loss: 0.7827 - val_accuracy: 0.7695\n",
            "Epoch 47/100\n",
            "8/8 [==============================] - 21s 3s/step - loss: 0.2469 - accuracy: 0.8865 - val_loss: 1.9959 - val_accuracy: 0.6367\n",
            "Epoch 48/100\n",
            "8/8 [==============================] - 21s 3s/step - loss: 0.3092 - accuracy: 0.8877 - val_loss: 1.4900 - val_accuracy: 0.6680\n",
            "Epoch 49/100\n",
            "8/8 [==============================] - 21s 3s/step - loss: 0.1881 - accuracy: 0.9388 - val_loss: 1.4371 - val_accuracy: 0.6836\n",
            "Epoch 50/100\n",
            "8/8 [==============================] - 22s 3s/step - loss: 0.2039 - accuracy: 0.9244 - val_loss: 0.9505 - val_accuracy: 0.7461\n",
            "Epoch 51/100\n",
            "8/8 [==============================] - 21s 3s/step - loss: 0.2045 - accuracy: 0.9155 - val_loss: 1.6758 - val_accuracy: 0.6758\n",
            "Epoch 52/100\n",
            "8/8 [==============================] - 21s 3s/step - loss: 0.2253 - accuracy: 0.9099 - val_loss: 1.8335 - val_accuracy: 0.6602\n",
            "Epoch 53/100\n",
            "8/8 [==============================] - 25s 3s/step - loss: 0.2323 - accuracy: 0.9077 - val_loss: 1.6217 - val_accuracy: 0.6758\n",
            "Epoch 54/100\n",
            "8/8 [==============================] - 21s 3s/step - loss: 0.2115 - accuracy: 0.9055 - val_loss: 0.9521 - val_accuracy: 0.7617\n",
            "Epoch 55/100\n",
            "8/8 [==============================] - 21s 3s/step - loss: 0.2132 - accuracy: 0.9043 - val_loss: 1.7543 - val_accuracy: 0.6680\n",
            "Epoch 56/100\n",
            "8/8 [==============================] - 25s 3s/step - loss: 0.2009 - accuracy: 0.9199 - val_loss: 2.2363 - val_accuracy: 0.6250\n",
            "Epoch 57/100\n",
            "8/8 [==============================] - 21s 3s/step - loss: 0.2465 - accuracy: 0.9055 - val_loss: 1.7947 - val_accuracy: 0.6680\n",
            "Epoch 58/100\n",
            "8/8 [==============================] - 21s 3s/step - loss: 0.1721 - accuracy: 0.9355 - val_loss: 1.8491 - val_accuracy: 0.6719\n",
            "Epoch 59/100\n",
            "8/8 [==============================] - 21s 3s/step - loss: 0.1680 - accuracy: 0.9310 - val_loss: 1.3690 - val_accuracy: 0.7188\n",
            "Epoch 60/100\n",
            "8/8 [==============================] - 21s 3s/step - loss: 0.2367 - accuracy: 0.8932 - val_loss: 2.0017 - val_accuracy: 0.6406\n",
            "Epoch 61/100\n",
            "8/8 [==============================] - 22s 3s/step - loss: 0.1614 - accuracy: 0.9388 - val_loss: 1.3734 - val_accuracy: 0.7227\n",
            "Epoch 62/100\n",
            "8/8 [==============================] - 22s 3s/step - loss: 0.1839 - accuracy: 0.9266 - val_loss: 1.6220 - val_accuracy: 0.6836\n",
            "Epoch 63/100\n",
            "8/8 [==============================] - 25s 3s/step - loss: 0.1418 - accuracy: 0.9499 - val_loss: 2.4341 - val_accuracy: 0.6328\n",
            "Epoch 64/100\n",
            "8/8 [==============================] - 22s 3s/step - loss: 0.2149 - accuracy: 0.9166 - val_loss: 1.6351 - val_accuracy: 0.6992\n",
            "Epoch 65/100\n",
            "8/8 [==============================] - 22s 3s/step - loss: 0.1967 - accuracy: 0.9166 - val_loss: 2.8383 - val_accuracy: 0.6055\n",
            "Epoch 66/100\n",
            "8/8 [==============================] - 22s 3s/step - loss: 0.2187 - accuracy: 0.9077 - val_loss: 3.7295 - val_accuracy: 0.5781\n",
            "Epoch 67/100\n",
            "8/8 [==============================] - 21s 3s/step - loss: 0.1753 - accuracy: 0.9310 - val_loss: 2.5051 - val_accuracy: 0.6367\n",
            "Epoch 68/100\n",
            "8/8 [==============================] - 22s 3s/step - loss: 0.1404 - accuracy: 0.9488 - val_loss: 2.5052 - val_accuracy: 0.6406\n",
            "Epoch 69/100\n",
            "8/8 [==============================] - 25s 3s/step - loss: 0.2127 - accuracy: 0.9099 - val_loss: 1.4385 - val_accuracy: 0.7070\n",
            "Epoch 70/100\n",
            "8/8 [==============================] - 21s 3s/step - loss: 0.1431 - accuracy: 0.9499 - val_loss: 1.7721 - val_accuracy: 0.6953\n",
            "Epoch 71/100\n",
            "8/8 [==============================] - 25s 3s/step - loss: 0.1601 - accuracy: 0.9444 - val_loss: 3.6162 - val_accuracy: 0.5742\n",
            "Epoch 72/100\n",
            "8/8 [==============================] - 25s 3s/step - loss: 0.1710 - accuracy: 0.9266 - val_loss: 1.8196 - val_accuracy: 0.6953\n",
            "Epoch 73/100\n",
            "8/8 [==============================] - 22s 3s/step - loss: 0.1392 - accuracy: 0.9466 - val_loss: 1.4001 - val_accuracy: 0.7422\n",
            "Epoch 74/100\n",
            "8/8 [==============================] - 22s 3s/step - loss: 0.1596 - accuracy: 0.9399 - val_loss: 0.9485 - val_accuracy: 0.8164\n",
            "Epoch 75/100\n",
            "8/8 [==============================] - 22s 3s/step - loss: 0.1622 - accuracy: 0.9333 - val_loss: 1.7646 - val_accuracy: 0.6992\n",
            "Epoch 76/100\n",
            "8/8 [==============================] - 22s 3s/step - loss: 0.1542 - accuracy: 0.9355 - val_loss: 2.0399 - val_accuracy: 0.6680\n",
            "Epoch 77/100\n",
            "8/8 [==============================] - 22s 3s/step - loss: 0.1527 - accuracy: 0.9499 - val_loss: 1.0562 - val_accuracy: 0.8125\n",
            "Epoch 78/100\n",
            "8/8 [==============================] - 22s 3s/step - loss: 0.1878 - accuracy: 0.9210 - val_loss: 1.6806 - val_accuracy: 0.7031\n",
            "Epoch 79/100\n",
            "8/8 [==============================] - 25s 3s/step - loss: 0.2444 - accuracy: 0.9188 - val_loss: 1.7873 - val_accuracy: 0.6875\n",
            "Epoch 80/100\n",
            "8/8 [==============================] - 24s 3s/step - loss: 0.1468 - accuracy: 0.9404 - val_loss: 2.0073 - val_accuracy: 0.6836\n",
            "Epoch 81/100\n",
            "8/8 [==============================] - 21s 3s/step - loss: 0.1307 - accuracy: 0.9499 - val_loss: 3.3862 - val_accuracy: 0.5742\n",
            "Epoch 82/100\n",
            "8/8 [==============================] - 25s 3s/step - loss: 0.1776 - accuracy: 0.9310 - val_loss: 2.2704 - val_accuracy: 0.6523\n",
            "Epoch 83/100\n",
            "8/8 [==============================] - 22s 3s/step - loss: 0.1188 - accuracy: 0.9499 - val_loss: 1.4933 - val_accuracy: 0.7383\n",
            "Epoch 84/100\n",
            "8/8 [==============================] - 22s 3s/step - loss: 0.1395 - accuracy: 0.9522 - val_loss: 1.9711 - val_accuracy: 0.6914\n",
            "Epoch 85/100\n",
            "8/8 [==============================] - 22s 3s/step - loss: 0.1993 - accuracy: 0.9143 - val_loss: 1.5096 - val_accuracy: 0.7266\n",
            "Epoch 86/100\n",
            "8/8 [==============================] - 21s 3s/step - loss: 0.1160 - accuracy: 0.9577 - val_loss: 2.1778 - val_accuracy: 0.6836\n",
            "Epoch 87/100\n",
            "8/8 [==============================] - 22s 3s/step - loss: 0.1434 - accuracy: 0.9499 - val_loss: 2.3837 - val_accuracy: 0.6797\n",
            "Epoch 88/100\n",
            "8/8 [==============================] - 21s 3s/step - loss: 0.1285 - accuracy: 0.9488 - val_loss: 2.5795 - val_accuracy: 0.6602\n",
            "Epoch 89/100\n",
            "8/8 [==============================] - 24s 3s/step - loss: 0.1341 - accuracy: 0.9414 - val_loss: 2.2852 - val_accuracy: 0.6875\n",
            "Epoch 90/100\n",
            "8/8 [==============================] - 24s 3s/step - loss: 0.1475 - accuracy: 0.9434 - val_loss: 2.3278 - val_accuracy: 0.6719\n",
            "Epoch 91/100\n",
            "8/8 [==============================] - 25s 3s/step - loss: 0.1770 - accuracy: 0.9310 - val_loss: 2.2879 - val_accuracy: 0.6797\n",
            "Epoch 92/100\n",
            "8/8 [==============================] - 24s 3s/step - loss: 0.1101 - accuracy: 0.9590 - val_loss: 2.0063 - val_accuracy: 0.6953\n",
            "Epoch 93/100\n",
            "8/8 [==============================] - 21s 3s/step - loss: 0.1223 - accuracy: 0.9499 - val_loss: 1.6073 - val_accuracy: 0.7461\n",
            "Epoch 94/100\n",
            "8/8 [==============================] - 22s 3s/step - loss: 0.1583 - accuracy: 0.9410 - val_loss: 0.8119 - val_accuracy: 0.8398\n",
            "Epoch 95/100\n",
            "8/8 [==============================] - 22s 3s/step - loss: 0.1228 - accuracy: 0.9455 - val_loss: 1.9971 - val_accuracy: 0.7070\n",
            "Epoch 96/100\n",
            "8/8 [==============================] - 21s 3s/step - loss: 0.1238 - accuracy: 0.9488 - val_loss: 2.9300 - val_accuracy: 0.6250\n",
            "Epoch 97/100\n",
            "8/8 [==============================] - 21s 3s/step - loss: 0.1211 - accuracy: 0.9544 - val_loss: 1.2243 - val_accuracy: 0.7734\n",
            "Epoch 98/100\n",
            "8/8 [==============================] - 24s 3s/step - loss: 0.1200 - accuracy: 0.9561 - val_loss: 3.0578 - val_accuracy: 0.6289\n",
            "Epoch 99/100\n",
            "8/8 [==============================] - 21s 3s/step - loss: 0.1275 - accuracy: 0.9511 - val_loss: 1.8456 - val_accuracy: 0.6992\n",
            "Epoch 100/100\n",
            "8/8 [==============================] - 22s 3s/step - loss: 0.1180 - accuracy: 0.9555 - val_loss: 1.2196 - val_accuracy: 0.7812\n"
          ],
          "name": "stdout"
        }
      ]
    },
    {
      "cell_type": "code",
      "metadata": {
        "colab_type": "code",
        "id": "7zNPRWOVJdOH",
        "colab": {
          "base_uri": "https://localhost:8080/",
          "height": 545
        },
        "outputId": "35b66be7-6816-42c2-86d9-549a9c2d75ba"
      },
      "source": [
        "import matplotlib.pyplot as plt\n",
        "acc = history.history['accuracy']\n",
        "val_acc = history.history['val_accuracy']\n",
        "loss = history.history['loss']\n",
        "val_loss = history.history['val_loss']\n",
        "\n",
        "epochs = range(len(acc))\n",
        "\n",
        "plt.plot(epochs, acc, 'r', label='Training accuracy')\n",
        "plt.plot(epochs, val_acc, 'b', label='Validation accuracy')\n",
        "plt.title('Training and validation accuracy')\n",
        "\n",
        "plt.figure()\n",
        "\n",
        "plt.plot(epochs, loss, 'r', label='Training Loss')\n",
        "plt.plot(epochs, val_loss, 'b', label='Validation Loss')\n",
        "plt.title('Training and validation loss')\n",
        "plt.legend()\n",
        "\n",
        "plt.show()"
      ],
      "execution_count": 8,
      "outputs": [
        {
          "output_type": "display_data",
          "data": {
            "image/png": "[encoded data removed]",
            "text/plain": [
              "<Figure size 432x288 with 1 Axes>"
            ]
          },
          "metadata": {
            "tags": [],
            "needs_background": "light"
          }
        },
        {
          "output_type": "display_data",
          "data": {
            "image/png": "[encoded data removed]",
            "text/plain": [
              "<Figure size 432x288 with 1 Axes>"
            ]
          },
          "metadata": {
            "tags": [],
            "needs_background": "light"
          }
        }
      ]
    }
  ]
}